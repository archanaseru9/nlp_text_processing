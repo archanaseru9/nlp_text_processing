{
 "cells": [
  {
   "cell_type": "code",
   "execution_count": 113,
   "id": "e6c9a59e",
   "metadata": {},
   "outputs": [],
   "source": [
    "import spacy\n",
    "import pandas as pd\n",
    "\n",
    "df=pd.read_csv(\"./text_processing.csv\") \n"
   ]
  },
  {
   "cell_type": "code",
   "execution_count": 114,
   "id": "cded79d1",
   "metadata": {},
   "outputs": [],
   "source": [
    "df=df.apply(lambda x:x.str.lower() if x.dtype== 'object' else x)\n"
   ]
  },
  {
   "cell_type": "code",
   "execution_count": 115,
   "id": "228e873e",
   "metadata": {},
   "outputs": [
    {
     "data": {
      "text/html": [
       "<div>\n",
       "<style scoped>\n",
       "    .dataframe tbody tr th:only-of-type {\n",
       "        vertical-align: middle;\n",
       "    }\n",
       "\n",
       "    .dataframe tbody tr th {\n",
       "        vertical-align: top;\n",
       "    }\n",
       "\n",
       "    .dataframe thead th {\n",
       "        text-align: right;\n",
       "    }\n",
       "</style>\n",
       "<table border=\"1\" class=\"dataframe\">\n",
       "  <thead>\n",
       "    <tr style=\"text-align: right;\">\n",
       "      <th></th>\n",
       "      <th>Class Index</th>\n",
       "      <th>Title</th>\n",
       "      <th>Description</th>\n",
       "    </tr>\n",
       "  </thead>\n",
       "  <tbody>\n",
       "    <tr>\n",
       "      <th>0</th>\n",
       "      <td>3</td>\n",
       "      <td>fears for t n pension after talks</td>\n",
       "      <td>unions representing workers at turner   newall...</td>\n",
       "    </tr>\n",
       "    <tr>\n",
       "      <th>1</th>\n",
       "      <td>4</td>\n",
       "      <td>the race is on second private team sets launch...</td>\n",
       "      <td>spacecom  toronto canada  a secondteam of rock...</td>\n",
       "    </tr>\n",
       "    <tr>\n",
       "      <th>2</th>\n",
       "      <td>4</td>\n",
       "      <td>ky company wins grant to study peptides ap</td>\n",
       "      <td>ap  a company founded by a chemistry researche...</td>\n",
       "    </tr>\n",
       "    <tr>\n",
       "      <th>3</th>\n",
       "      <td>4</td>\n",
       "      <td>prediction unit helps forecast wildfires ap</td>\n",
       "      <td>ap  its barely dawn when mike fitzpatrick star...</td>\n",
       "    </tr>\n",
       "    <tr>\n",
       "      <th>4</th>\n",
       "      <td>4</td>\n",
       "      <td>calif aims to limit farmrelated smog ap</td>\n",
       "      <td>ap  southern californias smogfighting agency w...</td>\n",
       "    </tr>\n",
       "    <tr>\n",
       "      <th>...</th>\n",
       "      <td>...</td>\n",
       "      <td>...</td>\n",
       "      <td>...</td>\n",
       "    </tr>\n",
       "    <tr>\n",
       "      <th>7595</th>\n",
       "      <td>1</td>\n",
       "      <td>around the world</td>\n",
       "      <td>ukrainian presidential candidate viktor yushch...</td>\n",
       "    </tr>\n",
       "    <tr>\n",
       "      <th>7596</th>\n",
       "      <td>2</td>\n",
       "      <td>void is filled with clement</td>\n",
       "      <td>with the supply of attractive pitching options...</td>\n",
       "    </tr>\n",
       "    <tr>\n",
       "      <th>7597</th>\n",
       "      <td>2</td>\n",
       "      <td>martinez leaves bitter</td>\n",
       "      <td>like roger clemens did almost exactly eight ye...</td>\n",
       "    </tr>\n",
       "    <tr>\n",
       "      <th>7598</th>\n",
       "      <td>3</td>\n",
       "      <td>5 of arthritis patients in singapore take bext...</td>\n",
       "      <td>singapore  doctors in the united states have w...</td>\n",
       "    </tr>\n",
       "    <tr>\n",
       "      <th>7599</th>\n",
       "      <td>3</td>\n",
       "      <td>ebay gets into rentals</td>\n",
       "      <td>ebay plans to buy the apartment and home renta...</td>\n",
       "    </tr>\n",
       "  </tbody>\n",
       "</table>\n",
       "<p>7600 rows × 3 columns</p>\n",
       "</div>"
      ],
      "text/plain": [
       "      Class Index                                              Title  \\\n",
       "0               3                  fears for t n pension after talks   \n",
       "1               4  the race is on second private team sets launch...   \n",
       "2               4         ky company wins grant to study peptides ap   \n",
       "3               4        prediction unit helps forecast wildfires ap   \n",
       "4               4            calif aims to limit farmrelated smog ap   \n",
       "...           ...                                                ...   \n",
       "7595            1                                   around the world   \n",
       "7596            2                        void is filled with clement   \n",
       "7597            2                             martinez leaves bitter   \n",
       "7598            3  5 of arthritis patients in singapore take bext...   \n",
       "7599            3                             ebay gets into rentals   \n",
       "\n",
       "                                            Description  \n",
       "0     unions representing workers at turner   newall...  \n",
       "1     spacecom  toronto canada  a secondteam of rock...  \n",
       "2     ap  a company founded by a chemistry researche...  \n",
       "3     ap  its barely dawn when mike fitzpatrick star...  \n",
       "4     ap  southern californias smogfighting agency w...  \n",
       "...                                                 ...  \n",
       "7595  ukrainian presidential candidate viktor yushch...  \n",
       "7596  with the supply of attractive pitching options...  \n",
       "7597  like roger clemens did almost exactly eight ye...  \n",
       "7598  singapore  doctors in the united states have w...  \n",
       "7599  ebay plans to buy the apartment and home renta...  \n",
       "\n",
       "[7600 rows x 3 columns]"
      ]
     },
     "execution_count": 115,
     "metadata": {},
     "output_type": "execute_result"
    }
   ],
   "source": [
    "import string\n",
    "cols_to_clean = ['Title', 'Description']\n",
    "for col in cols_to_clean:\n",
    "    df[col]=df[col].apply(lambda x: x.translate(str.maketrans('','',string.punctuation)) )\n",
    "df"
   ]
  },
  {
   "cell_type": "code",
   "execution_count": 116,
   "id": "3a1570e9",
   "metadata": {},
   "outputs": [
    {
     "name": "stderr",
     "output_type": "stream",
     "text": [
      "[nltk_data] Downloading package stopwords to\n",
      "[nltk_data]     C:\\Users\\archa\\AppData\\Roaming\\nltk_data...\n",
      "[nltk_data]   Package stopwords is already up-to-date!\n"
     ]
    },
    {
     "data": {
      "text/plain": [
       "True"
      ]
     },
     "execution_count": 116,
     "metadata": {},
     "output_type": "execute_result"
    }
   ],
   "source": [
    "import nltk\n",
    "nltk.download('stopwords')\n"
   ]
  },
  {
   "cell_type": "code",
   "execution_count": 117,
   "id": "792a5725",
   "metadata": {},
   "outputs": [],
   "source": [
    "from nltk.corpus import stopwords\n",
    "from nltk.tokenize import word_tokenize\n",
    "stop_words = set(stopwords.words('english'))\n",
    "\n"
   ]
  },
  {
   "cell_type": "code",
   "execution_count": 118,
   "id": "b25b8a77",
   "metadata": {},
   "outputs": [
    {
     "data": {
      "text/html": [
       "<div>\n",
       "<style scoped>\n",
       "    .dataframe tbody tr th:only-of-type {\n",
       "        vertical-align: middle;\n",
       "    }\n",
       "\n",
       "    .dataframe tbody tr th {\n",
       "        vertical-align: top;\n",
       "    }\n",
       "\n",
       "    .dataframe thead th {\n",
       "        text-align: right;\n",
       "    }\n",
       "</style>\n",
       "<table border=\"1\" class=\"dataframe\">\n",
       "  <thead>\n",
       "    <tr style=\"text-align: right;\">\n",
       "      <th></th>\n",
       "      <th>Class Index</th>\n",
       "      <th>Title</th>\n",
       "      <th>Description</th>\n",
       "    </tr>\n",
       "  </thead>\n",
       "  <tbody>\n",
       "    <tr>\n",
       "      <th>0</th>\n",
       "      <td>3</td>\n",
       "      <td>fears n pension talks</td>\n",
       "      <td>unions representing workers turner newall say ...</td>\n",
       "    </tr>\n",
       "    <tr>\n",
       "      <th>1</th>\n",
       "      <td>4</td>\n",
       "      <td>race second private team sets launch date huma...</td>\n",
       "      <td>spacecom toronto canada secondteam rocketeers ...</td>\n",
       "    </tr>\n",
       "    <tr>\n",
       "      <th>2</th>\n",
       "      <td>4</td>\n",
       "      <td>ky company wins grant study peptides ap</td>\n",
       "      <td>ap company founded chemistry researcher univer...</td>\n",
       "    </tr>\n",
       "    <tr>\n",
       "      <th>3</th>\n",
       "      <td>4</td>\n",
       "      <td>prediction unit helps forecast wildfires ap</td>\n",
       "      <td>ap barely dawn mike fitzpatrick starts shift b...</td>\n",
       "    </tr>\n",
       "    <tr>\n",
       "      <th>4</th>\n",
       "      <td>4</td>\n",
       "      <td>calif aims limit farmrelated smog ap</td>\n",
       "      <td>ap southern californias smogfighting agency we...</td>\n",
       "    </tr>\n",
       "    <tr>\n",
       "      <th>...</th>\n",
       "      <td>...</td>\n",
       "      <td>...</td>\n",
       "      <td>...</td>\n",
       "    </tr>\n",
       "    <tr>\n",
       "      <th>7595</th>\n",
       "      <td>1</td>\n",
       "      <td>around world</td>\n",
       "      <td>ukrainian presidential candidate viktor yushch...</td>\n",
       "    </tr>\n",
       "    <tr>\n",
       "      <th>7596</th>\n",
       "      <td>2</td>\n",
       "      <td>void filled clement</td>\n",
       "      <td>supply attractive pitching options dwindling d...</td>\n",
       "    </tr>\n",
       "    <tr>\n",
       "      <th>7597</th>\n",
       "      <td>2</td>\n",
       "      <td>martinez leaves bitter</td>\n",
       "      <td>like roger clemens almost exactly eight years ...</td>\n",
       "    </tr>\n",
       "    <tr>\n",
       "      <th>7598</th>\n",
       "      <td>3</td>\n",
       "      <td>5 arthritis patients singapore take bextra cel...</td>\n",
       "      <td>singapore doctors united states warned painkil...</td>\n",
       "    </tr>\n",
       "    <tr>\n",
       "      <th>7599</th>\n",
       "      <td>3</td>\n",
       "      <td>ebay gets rentals</td>\n",
       "      <td>ebay plans buy apartment home rental service r...</td>\n",
       "    </tr>\n",
       "  </tbody>\n",
       "</table>\n",
       "<p>7600 rows × 3 columns</p>\n",
       "</div>"
      ],
      "text/plain": [
       "      Class Index                                              Title  \\\n",
       "0               3                              fears n pension talks   \n",
       "1               4  race second private team sets launch date huma...   \n",
       "2               4            ky company wins grant study peptides ap   \n",
       "3               4        prediction unit helps forecast wildfires ap   \n",
       "4               4               calif aims limit farmrelated smog ap   \n",
       "...           ...                                                ...   \n",
       "7595            1                                       around world   \n",
       "7596            2                                void filled clement   \n",
       "7597            2                             martinez leaves bitter   \n",
       "7598            3  5 arthritis patients singapore take bextra cel...   \n",
       "7599            3                                  ebay gets rentals   \n",
       "\n",
       "                                            Description  \n",
       "0     unions representing workers turner newall say ...  \n",
       "1     spacecom toronto canada secondteam rocketeers ...  \n",
       "2     ap company founded chemistry researcher univer...  \n",
       "3     ap barely dawn mike fitzpatrick starts shift b...  \n",
       "4     ap southern californias smogfighting agency we...  \n",
       "...                                                 ...  \n",
       "7595  ukrainian presidential candidate viktor yushch...  \n",
       "7596  supply attractive pitching options dwindling d...  \n",
       "7597  like roger clemens almost exactly eight years ...  \n",
       "7598  singapore doctors united states warned painkil...  \n",
       "7599  ebay plans buy apartment home rental service r...  \n",
       "\n",
       "[7600 rows x 3 columns]"
      ]
     },
     "execution_count": 118,
     "metadata": {},
     "output_type": "execute_result"
    }
   ],
   "source": [
    "from nltk.corpus import stopwords\n",
    "stop_words = set(stopwords.words('english'))\n",
    "\n",
    "def remove_stop_words(text):\n",
    "    words = text.split()\n",
    "    filtered=[word for word in words if word.lower() not in stop_words]\n",
    "    return \" \".join(filtered)\n",
    "cols_to_clean = ['Title', 'Description']\n",
    "for col in cols_to_clean:\n",
    "    df[col] = df[col].apply(remove_stop_words)\n",
    "df\n"
   ]
  },
  {
   "cell_type": "code",
   "execution_count": 119,
   "id": "8907ba3a",
   "metadata": {},
   "outputs": [],
   "source": [
    "import spacy\n",
    "nlp = spacy.load(\"en_core_web_sm\")\n",
    "cols_to_clean=[\"Title\",\"Description\"]\n",
    "for col in cols_to_clean:\n",
    "   docs = list(nlp.pipe(df[col].astype(str)))  # Ensure column is string \n",
    "   df[col] = [\" \".join([token.lemma_ for token in doc]) for doc in docs]\n",
    " "
   ]
  },
  {
   "cell_type": "code",
   "execution_count": 122,
   "id": "88458fd7",
   "metadata": {},
   "outputs": [
    {
     "data": {
      "text/plain": [
       "0       3\n",
       "1       4\n",
       "2       4\n",
       "3       4\n",
       "4       4\n",
       "       ..\n",
       "7595    1\n",
       "7596    2\n",
       "7597    2\n",
       "7598    3\n",
       "7599    3\n",
       "Name: Class Index, Length: 7600, dtype: int64"
      ]
     },
     "execution_count": 122,
     "metadata": {},
     "output_type": "execute_result"
    }
   ],
   "source": [
    "from sklearn.feature_extraction.text import TfidfVectorizer\n",
    "\n",
    "tfidf = TfidfVectorizer(max_features=5000)\n",
    "df['combined'] = df[\"Title\"]+''+df['Description']\n",
    "X = tfidf.fit_transform(df['combined'])\n",
    "y = df['Class Index']\n",
    "y\n",
    "\n",
    "\n"
   ]
  },
  {
   "cell_type": "code",
   "execution_count": 123,
   "id": "d300526c",
   "metadata": {},
   "outputs": [
    {
     "name": "stdout",
     "output_type": "stream",
     "text": [
      "Sparsity: 0.36%\n"
     ]
    }
   ],
   "source": [
    "import numpy as np\n",
    "\n",
    "sparsity = (X.nnz / (X.shape[0] * X.shape[1])) * 100\n",
    "print(f\"Sparsity: {sparsity:.2f}%\")\n"
   ]
  },
  {
   "cell_type": "code",
   "execution_count": 124,
   "id": "43c915fa",
   "metadata": {},
   "outputs": [
    {
     "name": "stdout",
     "output_type": "stream",
     "text": [
      "Accuracy: 0.881578947368421\n"
     ]
    },
    {
     "data": {
      "text/plain": [
       "0.881578947368421"
      ]
     },
     "execution_count": 124,
     "metadata": {},
     "output_type": "execute_result"
    }
   ],
   "source": [
    "from sklearn.model_selection import train_test_split\n",
    "from sklearn.naive_bayes import MultinomialNB\n",
    "from sklearn.metrics import classification_report\n",
    "from sklearn.metrics import accuracy_score\n",
    "\n",
    "\n",
    "X_train, X_test, y_train, y_test = train_test_split(X, y, test_size=0.2, random_state=42)\n",
    "model = MultinomialNB()\n",
    "model.fit(X_train, y_train)\n",
    "\n",
    "# Predict Model\n",
    "predictions = model.predict(X_test)\n",
    "print(\"Accuracy:\", accuracy_score(y_test, predictions))\n",
    "\n",
    "#Accuracy of model\n",
    "model.score(X_test,y_test)\n"
   ]
  },
  {
   "cell_type": "code",
   "execution_count": 125,
   "id": "4d1ccd35",
   "metadata": {},
   "outputs": [
    {
     "data": {
      "image/png": "[encoded data removed]",
      "text/plain": [
       "<Figure size 640x480 with 2 Axes>"
      ]
     },
     "metadata": {},
     "output_type": "display_data"
    }
   ],
   "source": [
    "import seaborn as sns\n",
    "import matplotlib.pyplot as plt\n",
    "from sklearn.metrics import confusion_matrix\n",
    "cm = confusion_matrix(y_test, predictions)\n",
    "\n",
    "sns.heatmap(cm, annot=True, fmt='d')\n",
    "plt.xlabel('predicted')\n",
    "plt.ylabel('Actual')\n",
    "plt.show()\n",
    "\n"
   ]
  },
  {
   "cell_type": "code",
   "execution_count": 126,
   "id": "41394850",
   "metadata": {},
   "outputs": [],
   "source": [
    "import joblib\n",
    "joblib.dump(model, \"news_classifier_model.pkl\")\n",
    "joblib.dump(tfidf, \"tfidf_vectorizer.pkl\")\n",
    "\n",
    "# Load later\n",
    "loaded_model = joblib.load(\"news_classifier_model.pkl\")\n",
    "loaded_vectorizer = joblib.load(\"tfidf_vectorizer.pkl\")\n"
   ]
  }
 ],
 "metadata": {
  "kernelspec": {
   "display_name": "Python 3",
   "language": "python",
   "name": "python3"
  },
  "language_info": {
   "codemirror_mode": {
    "name": "ipython",
    "version": 3
   },
   "file_extension": ".py",
   "mimetype": "text/x-python",
   "name": "python",
   "nbconvert_exporter": "python",
   "pygments_lexer": "ipython3",
   "version": "3.12.10"
  }
 },
 "nbformat": 4,
 "nbformat_minor": 5
}
