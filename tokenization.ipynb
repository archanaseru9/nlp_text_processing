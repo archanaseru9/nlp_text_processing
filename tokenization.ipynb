{
 "cells": [
  {
   "cell_type": "code",
   "execution_count": 2,
   "id": "e0c911ec",
   "metadata": {},
   "outputs": [],
   "source": [
    "import spacy"
   ]
  },
  {
   "cell_type": "code",
   "execution_count": 3,
   "id": "aaa9b3db",
   "metadata": {},
   "outputs": [
    {
     "name": "stdout",
     "output_type": "stream",
     "text": [
      "heelo\n",
      "I\n",
      "am\n",
      "good\n",
      ".\n",
      "Dr.\n",
      "Archana\n",
      "how\n",
      "do\n",
      "you\n",
      "do\n",
      ".\n"
     ]
    }
   ],
   "source": [
    "nlp=spacy.load(\"en_core_web_sm\")\n",
    "doc=nlp(\"heelo I am good.Dr.Archana how do you do.\")\n",
    "\n",
    "for sentence in doc.sents:\n",
    "    for words in sentence:\n",
    "        print(words)"
   ]
  },
  {
   "cell_type": "code",
   "execution_count": 11,
   "id": "82f1926d",
   "metadata": {},
   "outputs": [
    {
     "data": {
      "text/plain": [
       "True"
      ]
     },
     "execution_count": 11,
     "metadata": {},
     "output_type": "execute_result"
    }
   ],
   "source": [
    "doc=nlp(\"Let's go to N.Y.! 5$\")\n",
    "\n",
    "for sent in doc:\n",
    "    #print(sent)\n",
    "    pass\n",
    "doc1=doc[-1]\n",
    "doc1.is_currency"
   ]
  },
  {
   "cell_type": "code",
   "execution_count": 7,
   "id": "04f163ce",
   "metadata": {},
   "outputs": [
    {
     "data": {
      "text/plain": [
       "[virat@kohli.com, maria@sharapova.com, serena@williams.com, joe@root.com]"
      ]
     },
     "execution_count": 7,
     "metadata": {},
     "output_type": "execute_result"
    }
   ],
   "source": [
    "import spacy\n",
    "nlp=spacy.load(\"en_core_web_sm\")\n",
    "with open(\"./token.txt\") as f:\n",
    "    test=f.readlines()\n",
    "text_string= ' '.join(test)\n",
    "text_string\n",
    "doc=nlp(text_string)\n",
    "email=[]\n",
    "for text in doc:\n",
    "    if text.like_email:\n",
    "        email.append(text)\n",
    "email"
   ]
  },
  {
   "cell_type": "code",
   "execution_count": 11,
   "id": "963b18d1",
   "metadata": {},
   "outputs": [
    {
     "data": {
      "text/plain": [
       "[http://www.data.gov/,\n",
       " http://www.science,\n",
       " http://data.gov.uk/.,\n",
       " http://www3.norc.org/gss+website/,\n",
       " http://www.europeansocialsurvey.org/.]"
      ]
     },
     "execution_count": 11,
     "metadata": {},
     "output_type": "execute_result"
    }
   ],
   "source": [
    "text='''\n",
    "Look for data to help you address the question. Governments are good\n",
    "sources because data from public research is often freely available. Good\n",
    "places to start include http://www.data.gov/, and http://www.science.\n",
    "gov/, and in the United Kingdom, http://data.gov.uk/.\n",
    "Two of my favorite data sets are the General Social Survey at http://www3.norc.org/gss+website/, \n",
    "and the European Social Survey at http://www.europeansocialsurvey.org/.\n",
    "'''\n",
    "nlp=spacy.load(\"en_core_web_sm\")\n",
    "doc=nlp(text)\n",
    "urls=[]\n",
    "for sents in doc.sents:\n",
    "    for word in sents:\n",
    "        if word.like_url:\n",
    "            urls.append(word)\n",
    "urls"
   ]
  },
  {
   "cell_type": "code",
   "execution_count": 28,
   "id": "c3456553",
   "metadata": {},
   "outputs": [
    {
     "name": "stdout",
     "output_type": "stream",
     "text": [
      "Tony | PERSON | People, including fictional\n",
      "Peter, Bruce gave | ORG | Companies, agencies, institutions, etc.\n",
      "500 € | MONEY | Monetary values, including unit\n",
      "Steve | PERSON | People, including fictional\n"
     ]
    }
   ],
   "source": [
    "transactions = \"Tony gave two $ to Peter, Bruce gave 500 € to Steve\"\n",
    "nlp=spacy.load(\"en_core_web_sm\")\n",
    "doc=nlp(transactions)\n",
    "currency=[]\n",
    "for sent in doc.ents:\n",
    "    print(sent.text,\"|\",sent.label_,\"|\",spacy.explain(sent.label_))\n",
    "    #if sent.like_num and doc[sent.i+1].is_currency:\n",
    "     #       print()\n",
    "#print(currency)\n",
    "doc=nlp(\"Tesla Inc  va racheter Twitter pour $45 milliards de dollars\")\n",
    "import spacy\n",
    "from spacy import displacy\n"
   ]
  },
  {
   "cell_type": "code",
   "execution_count": 29,
   "id": "7a53831f",
   "metadata": {},
   "outputs": [
    {
     "name": "stdout",
     "output_type": "stream",
     "text": [
      "eating | eat\n",
      "eats | eat\n",
      "eat | eat\n",
      "ate | ate\n",
      "adjustable | adjust\n",
      "rafting | raft\n",
      "ability | abil\n",
      "meeting | meet\n"
     ]
    }
   ],
   "source": [
    "from nltk import PorterStemmer\n",
    "\n",
    "stemmer = PorterStemmer()\n",
    "words=[\"eating\",\"eats\",\"eat\",\"ate\",\"adjustable\",\"rafting\",\"ability\",\"meeting\"]\n",
    "for word in words:\n",
    "    print(word,\"|\",stemmer.stem(word))"
   ]
  },
  {
   "cell_type": "code",
   "execution_count": 34,
   "id": "c44294e4",
   "metadata": {},
   "outputs": [
    {
     "name": "stdout",
     "output_type": "stream",
     "text": [
      "bro | Brother\n",
      ", | ,\n",
      "you | you\n",
      "wanna | wanna\n",
      "go | go\n",
      "? | ?\n",
      "brah | Brother\n",
      ", | ,\n",
      "do | do\n",
      "n't | not\n",
      "say | say\n",
      "no | no\n",
      "! | !\n",
      "I | I\n",
      "am | be\n",
      "exhausted | exhaust\n"
     ]
    }
   ],
   "source": [
    "ar=nlp.get_pipe('attribute_ruler')\n",
    "ar.add([[{\"TEXT\":\"bro\"}],[{\"TEXT\":\"brah\"}]],{\"LEMMA\":\"Brother\"})\n",
    "doc=nlp(\"bro, you wanna go? brah, don't say no ! I am exhausted\")\n",
    "for token in doc:\n",
    "    print(token.text,\"|\",token.lemma_)"
   ]
  },
  {
   "cell_type": "code",
   "execution_count": 36,
   "id": "02763916",
   "metadata": {},
   "outputs": [
    {
     "name": "stdout",
     "output_type": "stream",
     "text": [
      "[8.3, 8.1, 1982]\n",
      "[Inflation, climb, consumers, brink, expansion, consumer, price, index, measure, prices, goods, services, %, year, estimate, %, gain, ease, peak, level, summer, food, ene]\n"
     ]
    }
   ],
   "source": [
    "import spacy\n",
    "text='Inflation rose again in April, continuing a climb that has pushed consumers to the brink and is threatening the economic expansion, the Bureau of Labor Statistics reported Wednesday.\\n\\nThe consumer price index, a broad-based measure of prices for goods and services, increased 8.3% from a year ago, higher than the Dow Jones estimate for an 8.1% gain. That represented a slight ease from Marchâ€™s peak but was still close to the highest level since the summer of 1982.\\n\\nRemoving volatile food and ene'\n",
    "nlp=spacy.load(\"en_core_web_sm\")\n",
    "doc=nlp(text)\n",
    "number=[]\n",
    "nouns=[]\n",
    "for ele in doc:\n",
    "    if ele.pos_== \"NUM\":\n",
    "        number.append(ele)\n",
    "    if ele.pos_ == \"NOUN\":\n",
    "        nouns.append(ele)\n",
    "\n",
    "print(number)\n",
    "print(nouns)"
   ]
  },
  {
   "cell_type": "code",
   "execution_count": 39,
   "id": "e9f7d484",
   "metadata": {},
   "outputs": [
    {
     "name": "stdout",
     "output_type": "stream",
     "text": [
      "NOUN | 23\n",
      "VERB | 9\n",
      "ADV | 4\n",
      "ADP | 11\n",
      "PROPN | 9\n",
      "PUNCT | 9\n",
      "DET | 12\n",
      "PRON | 2\n",
      "AUX | 3\n",
      "CCONJ | 4\n",
      "ADJ | 6\n",
      "SPACE | 2\n",
      "NUM | 3\n",
      "PART | 1\n",
      "SCONJ | 1\n"
     ]
    },
    {
     "data": {
      "text/plain": [
       "{92: 23,\n",
       " 100: 9,\n",
       " 86: 4,\n",
       " 85: 11,\n",
       " 96: 9,\n",
       " 97: 9,\n",
       " 90: 12,\n",
       " 95: 2,\n",
       " 87: 3,\n",
       " 89: 4,\n",
       " 84: 6,\n",
       " 103: 2,\n",
       " 93: 3,\n",
       " 94: 1,\n",
       " 98: 1}"
      ]
     },
     "execution_count": 39,
     "metadata": {},
     "output_type": "execute_result"
    }
   ],
   "source": [
    "import spacy.attrs\n",
    "\n",
    "\n",
    "count=doc.count_by(spacy.attrs.POS)\n",
    "for k,v in count.items():\n",
    "    print(doc.vocab[k].text,\"|\",v)\n",
    "count"
   ]
  },
  {
   "cell_type": "code",
   "execution_count": 2,
   "id": "67cc9ce4",
   "metadata": {},
   "outputs": [
    {
     "name": "stdout",
     "output_type": "stream",
     "text": [
      "Tesla Inc | ORG | Companies, agencies, institutions, etc.\n",
      "Twitter | PERSON | People, including fictional\n",
      "$45 billions | MONEY | Monetary values, including unit\n"
     ]
    }
   ],
   "source": [
    "import spacy \n",
    "nlp= spacy.load(\"en_core_web_sm\")\n",
    "doc=nlp(\"Tesla Inc is going to acquire Twitter for $45 billions\")\n",
    "for ent in doc.ents:\n",
    "    print(ent.text,\"|\",ent.label_,\"|\",spacy.explain(ent.label_))"
   ]
  },
  {
   "cell_type": "code",
   "execution_count": 12,
   "id": "2d3f5e4e",
   "metadata": {},
   "outputs": [
    {
     "name": "stdout",
     "output_type": "stream",
     "text": [
      "Micheal Bloomberg | PERSON | People, including fictional\n",
      "Bloomberg | GPE | Countries, cities, states\n",
      "1982 | DATE | Absolute or relative dates or periods\n"
     ]
    }
   ],
   "source": [
    "nlp.pipe_labels['ner']\n",
    "doc=nlp(\"Micheal Bloomberg founded Bloomberg in 1982\")\n",
    "for ent in doc.ents:\n",
    "    print(ent.text,\"|\",ent.label_,\"|\",spacy.explain(ent.label_))"
   ]
  },
  {
   "cell_type": "code",
   "execution_count": 20,
   "id": "ca7c344e",
   "metadata": {},
   "outputs": [
    {
     "name": "stdout",
     "output_type": "stream",
     "text": [
      "Archana | Person\n",
      "Inc | PERSON\n",
      "Name | GPE\n",
      "Heureux | ORG\n"
     ]
    }
   ],
   "source": [
    "from spacy.tokens import Span\n",
    "doc=nlp(\"Archana Inc have own Company, it Name Heureux\")\n",
    "s1=Span(doc,0,1,label=\"Person\")\n",
    "s2=Span(doc,8,9,label=\"ORG\")\n",
    "doc.set_ents([s1,s2],default=\"unmodified\")\n",
    "for ent in doc.ents:\n",
    "    print(ent.text,\"|\",ent.label_)\n",
    "\n",
    "\n"
   ]
  }
 ],
 "metadata": {
  "kernelspec": {
   "display_name": "Python 3",
   "language": "python",
   "name": "python3"
  },
  "language_info": {
   "codemirror_mode": {
    "name": "ipython",
    "version": 3
   },
   "file_extension": ".py",
   "mimetype": "text/x-python",
   "name": "python",
   "nbconvert_exporter": "python",
   "pygments_lexer": "ipython3",
   "version": "3.12.10"
  }
 },
 "nbformat": 4,
 "nbformat_minor": 5
}
