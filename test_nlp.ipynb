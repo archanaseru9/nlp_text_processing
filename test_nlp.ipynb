{
 "cells": [
  {
   "cell_type": "code",
   "execution_count": 27,
   "id": "3d5b2528",
   "metadata": {},
   "outputs": [],
   "source": [
    "import joblib\n",
    "\n",
    "# Load model and vectorizer\n",
    "model = joblib.load(\"news_classifier_model.pkl\")\n",
    "tfidf = joblib.load(\"tfidf_vectorizer.pkl\")\n"
   ]
  },
  {
   "cell_type": "code",
   "execution_count": null,
   "id": "e24ec0b6",
   "metadata": {},
   "outputs": [
    {
     "name": "stdout",
     "output_type": "stream",
     "text": [
      "                                        Title  \\\n",
      "0  Real-Time News Article Classification Test   \n",
      "\n",
      "                                         Description  \n",
      "0  This dataset is designed to test the real-time...  \n"
     ]
    }
   ],
   "source": [
    "# Example real-time news article\n",
    "import pandas as pd\n",
    "test_data = [{\"Title\":\"Real-Time News Article Classification Test\",\"Description\":\"This dataset is designed to test the real-time performance of the trained News Article Classification Model. Each entry consists of a short news headline or excerpt, representing actual or simulated real-world data that the model may encounter in production. The dataset enables validation of the model’s ability to correctly categorize unseen news into predefined categories such as Politics, Business, Sports, Technology, and Entertainment.\"}]\n",
    "new_text = [item['Title'] + \" \" + item['Description'] for item in test_data]\n",
    "df_test = pd.DataFrame(test_data)\n",
    "print(df_test)\n"
   ]
  },
  {
   "cell_type": "code",
   "execution_count": 29,
   "id": "70164295",
   "metadata": {},
   "outputs": [
    {
     "name": "stdout",
     "output_type": "stream",
     "text": [
      "Predicted Category: 4\n"
     ]
    }
   ],
   "source": [
    "df_test['Combined'] = df_test['Title'] + \" \" + df_test['Description']\n",
    "\n",
    "X_new = tfidf.transform(df_test['Combined'])\n",
    "\n",
    "# Predict using the model\n",
    "prediction = model.predict(X_new)\n",
    "\n",
    "print(\"Predicted Category:\", prediction[0])\n"
   ]
  },
  {
   "cell_type": "code",
   "execution_count": 30,
   "id": "54cbceed",
   "metadata": {},
   "outputs": [
    {
     "name": "stdout",
     "output_type": "stream",
     "text": [
      "Predicted Category: 4\n"
     ]
    }
   ],
   "source": [
    "prediction = model.predict(X_new)\n",
    "print(\"Predicted Category:\", prediction[0])\n"
   ]
  }
 ],
 "metadata": {
  "kernelspec": {
   "display_name": "Python 3",
   "language": "python",
   "name": "python3"
  },
  "language_info": {
   "codemirror_mode": {
    "name": "ipython",
    "version": 3
   },
   "file_extension": ".py",
   "mimetype": "text/x-python",
   "name": "python",
   "nbconvert_exporter": "python",
   "pygments_lexer": "ipython3",
   "version": "3.12.10"
  }
 },
 "nbformat": 4,
 "nbformat_minor": 5
}
