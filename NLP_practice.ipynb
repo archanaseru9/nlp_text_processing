{
 "cells": [
  {
   "cell_type": "code",
   "execution_count": 12,
   "id": "fe20cbd4",
   "metadata": {},
   "outputs": [],
   "source": [
    "import re\n",
    "chat1=\"code basics: you ask to lot of questions 1234567890,abc@azh.com,9986611789 \"\n",
    "chat2=\"here it is (123)-567-1234,abc@gkb.com\"\n",
    "chat3=\"yes phone:9087654321,email:abc@hni.com\"\n",
    "or_chat1=' my order-number- #5678932891'\n",
    "or_chat2='here is order #1234678232'"
   ]
  },
  {
   "cell_type": "code",
   "execution_count": 15,
   "id": "f52f548f",
   "metadata": {},
   "outputs": [
    {
     "data": {
      "text/plain": [
       "'5678932891'"
      ]
     },
     "execution_count": 15,
     "metadata": {},
     "output_type": "execute_result"
    }
   ],
   "source": [
    "pattern='\\d{10}|\\(\\d{3}\\)-\\d{3}-\\d{4}'\n",
    "pattern_mail= '[a-z0-9A-Z_]*@[a-zA-Z0-9]*\\.[a-zA-Z]*'\n",
    "pattern_order= 'order[^\\d]*(\\d*)'\n",
    "matches=re.findall(pattern_order,or_chat1)\n",
    "matches[0]"
   ]
  },
  {
   "cell_type": "code",
   "execution_count": null,
   "id": "27b3dbf2",
   "metadata": {},
   "outputs": [],
   "source": []
  }
 ],
 "metadata": {
  "kernelspec": {
   "display_name": "base",
   "language": "python",
   "name": "python3"
  },
  "language_info": {
   "codemirror_mode": {
    "name": "ipython",
    "version": 3
   },
   "file_extension": ".py",
   "mimetype": "text/x-python",
   "name": "python",
   "nbconvert_exporter": "python",
   "pygments_lexer": "ipython3",
   "version": "3.10.9"
  }
 },
 "nbformat": 4,
 "nbformat_minor": 5
}
